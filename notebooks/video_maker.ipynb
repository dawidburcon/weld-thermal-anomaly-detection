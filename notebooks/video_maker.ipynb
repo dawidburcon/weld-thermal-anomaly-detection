{
 "cells": [
  {
   "cell_type": "code",
   "execution_count": 1,
   "id": "b25460ce",
   "metadata": {
    "lines_to_next_cell": 2
   },
   "outputs": [
    {
     "name": "stdout",
     "output_type": "stream",
     "text": [
      "Brak plików .jpg w folderze: ./frames_output/600_46n7_1_2mm_-161_08_35_51_272/preview_fixed\n"
     ]
    },
    {
     "ename": "IndexError",
     "evalue": "list index out of range",
     "output_type": "error",
     "traceback": [
      "\u001b[0;31m---------------------------------------------------------------------------\u001b[0m",
      "\u001b[0;31mIndexError\u001b[0m                                Traceback (most recent call last)",
      "Cell \u001b[0;32mIn[1], line 18\u001b[0m\n\u001b[1;32m     15\u001b[0m     exit()\n\u001b[1;32m     17\u001b[0m \u001b[38;5;66;03m# 📏 Wczytaj pierwszy obraz by sprawdzić rozmiar\u001b[39;00m\n\u001b[0;32m---> 18\u001b[0m frame \u001b[38;5;241m=\u001b[39m cv2\u001b[38;5;241m.\u001b[39mimread(\u001b[43mimages\u001b[49m\u001b[43m[\u001b[49m\u001b[38;5;241;43m0\u001b[39;49m\u001b[43m]\u001b[49m)\n\u001b[1;32m     19\u001b[0m height, width, _ \u001b[38;5;241m=\u001b[39m frame\u001b[38;5;241m.\u001b[39mshape\n\u001b[1;32m     21\u001b[0m \u001b[38;5;66;03m# 🎬 Parametry wideo\u001b[39;00m\n",
      "\u001b[0;31mIndexError\u001b[0m: list index out of range"
     ]
    },
    {
     "ename": "",
     "evalue": "",
     "output_type": "error",
     "traceback": [
      "\u001b[1;31mThe Kernel crashed while executing code in the current cell or a previous cell. \n",
      "\u001b[1;31mPlease review the code in the cell(s) to identify a possible cause of the failure. \n",
      "\u001b[1;31mClick <a href='https://aka.ms/vscodeJupyterKernelCrash'>here</a> for more info. \n",
      "\u001b[1;31mView Jupyter <a href='command:jupyter.viewOutput'>log</a> for further details."
     ]
    }
   ],
   "source": [
    "import cv2\n",
    "import os\n",
    "from glob import glob\n",
    "\n",
    "# 🔧 Podaj nazwę folderu .seq (bez ścieżki)\n",
    "nazwa_seq = '600_46n7_1_2mm_-161_08_35_51_272'  # <-- <- TUTAJ PODAJ WŁASNY FOLDER\n",
    "\n",
    "# 🔍 Ścieżka do folderu z obrazami\n",
    "folder_path = os.path.join('../frames_output', nazwa_seq, 'preview_fixed')\n",
    "\n",
    "# 📦 Pobierz i posortuj pliki .jpg\n",
    "images = sorted(glob(os.path.join(folder_path, '*.jpg')))\n",
    "if not images:\n",
    "    print(f'Brak plików .jpg w folderze: {folder_path}')\n",
    "    exit()\n",
    "\n",
    "# 📏 Wczytaj pierwszy obraz by sprawdzić rozmiar\n",
    "frame = cv2.imread(images[0])\n",
    "height, width, _ = frame.shape\n",
    "\n",
    "# 🎬 Parametry wideo\n",
    "fps = 30\n",
    "fourcc = cv2.VideoWriter_fourcc(*'mp4v')\n",
    "output_video = f'../frames_output/{os.path.splitext(nazwa_seq)[0]}.mp4'\n",
    "\n",
    "# 🧩 Inicjalizacja zapisu wideo\n",
    "video = cv2.VideoWriter(output_video, fourcc, fps, (width, height))\n",
    "\n",
    "print(f'Tworzenie wideo z folderu: {folder_path}')\n",
    "for img_path in images:\n",
    "    img = cv2.imread(img_path)\n",
    "    video.write(img)\n",
    "\n",
    "video.release()\n",
    "print(f'Gotowe! Wideo zapisane jako: {output_video}')"
   ]
  }
 ],
 "metadata": {
  "jupytext": {
   "cell_metadata_filter": "-all",
   "custom_cell_magics": "kql",
   "encoding": "# -*- coding: utf-8 -*-"
  },
  "kernelspec": {
   "display_name": "thermal_3.10",
   "language": "python",
   "name": "python3"
  },
  "language_info": {
   "codemirror_mode": {
    "name": "ipython",
    "version": 3
   },
   "file_extension": ".py",
   "mimetype": "text/x-python",
   "name": "python",
   "nbconvert_exporter": "python",
   "pygments_lexer": "ipython3",
   "version": "3.10.15"
  }
 },
 "nbformat": 4,
 "nbformat_minor": 5
}
