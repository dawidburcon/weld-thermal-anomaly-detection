{
 "cells": [
  {
   "cell_type": "code",
   "execution_count": 1,
   "id": "b25460ce",
   "metadata": {
    "lines_to_next_cell": 2
   },
   "outputs": [
    {
     "name": "stdout",
     "output_type": "stream",
     "text": [
      "Tworzenie wideo z folderu: ../frames_output/600_46n7_1_2mm_-161_08_35_51_272/preview_fixed\n",
      "Gotowe! Wideo zapisane jako: ../frames_output/600_46n7_1_2mm_-161_08_35_51_272.mp4\n"
     ]
    }
   ],
   "source": [
    "import cv2\n",
    "import os\n",
    "from glob import glob\n",
    "\n",
    "# 🔧 Podaj nazwę folderu .seq (bez ścieżki)\n",
    "nazwa_seq = '600_46n7_1_2mm_-161_08_35_51_272'  # <-- <- TUTAJ PODAJ WŁASNY FOLDER\n",
    "\n",
    "# 🔍 Ścieżka do folderu z obrazami\n",
    "folder_path = os.path.join('../frames_output', nazwa_seq, 'preview_fixed')\n",
    "\n",
    "# 📦 Pobierz i posortuj pliki .jpg\n",
    "images = sorted(glob(os.path.join(folder_path, '*.jpg')))\n",
    "if not images:\n",
    "    print(f'Brak plików .jpg w folderze: {folder_path}')\n",
    "    exit()\n",
    "\n",
    "# 📏 Wczytaj pierwszy obraz by sprawdzić rozmiar\n",
    "frame = cv2.imread(images[0])\n",
    "height, width, _ = frame.shape\n",
    "\n",
    "# 🎬 Parametry wideo\n",
    "fps = 30\n",
    "fourcc = cv2.VideoWriter_fourcc(*'mp4v')\n",
    "output_video = f'../frames_output/{os.path.splitext(nazwa_seq)[0]}.mp4'\n",
    "\n",
    "# 🧩 Inicjalizacja zapisu wideo\n",
    "video = cv2.VideoWriter(output_video, fourcc, fps, (width, height))\n",
    "\n",
    "print(f'Tworzenie wideo z folderu: {folder_path}')\n",
    "for img_path in images:\n",
    "    img = cv2.imread(img_path)\n",
    "    video.write(img)\n",
    "\n",
    "video.release()\n",
    "print(f'Gotowe! Wideo zapisane jako: {output_video}')"
   ]
  }
 ],
 "metadata": {
  "jupytext": {
   "cell_metadata_filter": "-all",
   "custom_cell_magics": "kql",
   "encoding": "# -*- coding: utf-8 -*-"
  },
  "kernelspec": {
   "display_name": "thermal_3.10",
   "language": "python",
   "name": "python3"
  },
  "language_info": {
   "codemirror_mode": {
    "name": "ipython",
    "version": 3
   },
   "file_extension": ".py",
   "mimetype": "text/x-python",
   "name": "python",
   "nbconvert_exporter": "python",
   "pygments_lexer": "ipython3",
   "version": "3.10.15"
  }
 },
 "nbformat": 4,
 "nbformat_minor": 5
}
