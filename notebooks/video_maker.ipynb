{
 "cells": [
  {
   "cell_type": "code",
   "execution_count": null,
   "id": "b25460ce",
   "metadata": {
    "lines_to_next_cell": 2
   },
   "outputs": [],
   "source": [
    "import cv2\n",
    "import os\n",
    "from glob import glob\n",
    "\n",
    "# 🔧 Podaj nazwę folderu .seq (bez ścieżki)\n",
    "nazwa_seq = '625_38n18_1_2mm_-161_07_41_19_806'  # <-- <- TUTAJ PODAJ WŁASNY FOLDER\n",
    "\n",
    "# 🔍 Ścieżka do folderu z obrazami\n",
    "folder_path = os.path.join('./frames_output', nazwa_seq, 'preview_fixed')\n",
    "\n",
    "# 📦 Pobierz i posortuj pliki .jpg\n",
    "images = sorted(glob(os.path.join(folder_path, '*.jpg')))\n",
    "if not images:\n",
    "    print(f'Brak plików .jpg w folderze: {folder_path}')\n",
    "    exit()\n",
    "\n",
    "# 📏 Wczytaj pierwszy obraz by sprawdzić rozmiar\n",
    "frame = cv2.imread(images[0])\n",
    "height, width, _ = frame.shape\n",
    "\n",
    "# 🎬 Parametry wideo\n",
    "fps = 30\n",
    "fourcc = cv2.VideoWriter_fourcc(*'mp4v')\n",
    "output_video = f'./frames_output/{os.path.splitext(nazwa_seq)[0]}.mp4'\n",
    "\n",
    "# 🧩 Inicjalizacja zapisu wideo\n",
    "video = cv2.VideoWriter(output_video, fourcc, fps, (width, height))\n",
    "\n",
    "print(f'Tworzenie wideo z folderu: {folder_path}')\n",
    "for img_path in images:\n",
    "    img = cv2.imread(img_path)\n",
    "    video.write(img)\n",
    "\n",
    "video.release()\n",
    "print(f'Gotowe! Wideo zapisane jako: {output_video}')"
   ]
  }
 ],
 "metadata": {
  "jupytext": {
   "cell_metadata_filter": "-all",
   "custom_cell_magics": "kql",
   "encoding": "# -*- coding: utf-8 -*-"
  },
  "kernelspec": {
   "display_name": "thermal_3.10",
   "language": "python",
   "name": "python3"
  }
 },
 "nbformat": 4,
 "nbformat_minor": 5
}
